{
  "cells": [
    {
      "cell_type": "markdown",
      "metadata": {
        "id": "M-DGa20PaHnu"
      },
      "source": [
        "#Задача 1\n",
        "Написать функцию на вход которой подается строка, состоящая из латинских букв.\n",
        "Функция должна вернуть количество гласных букв (a, e, i, o, u) в этой строке. Написать тесты для кода"
      ]
    },
    {
      "cell_type": "code",
      "execution_count": 1,
      "metadata": {
        "id": "XvX8X_JJ6PCb"
      },
      "outputs": [
        {
          "name": "stdout",
          "output_type": "stream",
          "text": [
            "Все тесты пройдены\n"
          ]
        }
      ],
      "source": [
        "def count_char(s):\n",
        "    count = 0\n",
        "    char = 'aeiou'\n",
        "    for i in s:\n",
        "        if i in char:\n",
        "            count += 1\n",
        "    return count\n",
        "\n",
        "\n",
        "def test():\n",
        "    assert count_char('hello') == 2, 'Тест 1 не пройден'\n",
        "    assert count_char('aeiou') == 5, 'Тест 2 не пройден'\n",
        "    assert count_char(\"\") == 0, \"Тест 3 не пройден\"\n",
        "    print('Все тесты пройдены')\n",
        "\n",
        "\n",
        "test()"
      ]
    },
    {
      "cell_type": "markdown",
      "metadata": {
        "id": "t2ClV_Y0bbr6"
      },
      "source": [
        "# Задача 2\n",
        "Написать функцию на вход, которой подается строка. Функция должна вернуть true, если\n",
        "каждый символ в строке встречается только 1 раз, иначе должна вернуть false. Написать тесты для кода"
      ]
    },
    {
      "cell_type": "code",
      "execution_count": 2,
      "metadata": {
        "id": "FppbECao6VIz"
      },
      "outputs": [
        {
          "name": "stdout",
          "output_type": "stream",
          "text": [
            "Все тесты пройдены\n"
          ]
        }
      ],
      "source": [
        "def duplicate_char(s):\n",
        "    used = set()\n",
        "    for i in s:\n",
        "        if i in used:\n",
        "            return False\n",
        "        used.add(i)\n",
        "    return True\n",
        "\n",
        "def test():\n",
        "    assert duplicate_char('abcdef') == True, 'Тест 1 не пройден'\n",
        "    assert duplicate_char('abcdeff') == False, 'Тест 2 не пройден'\n",
        "    assert duplicate_char('') == True, 'Тест 3 не пройден'\n",
        "    assert duplicate_char('a') == True, 'Тест 4 не пройден'\n",
        "    print('Все тесты пройдены')\n",
        "\n",
        "test()"
      ]
    },
    {
      "cell_type": "markdown",
      "metadata": {
        "id": "udRiIK1cdt6E"
      },
      "source": [
        "# Задача 3\n",
        "Написать функцию, которая принимает положительное число и возвращает количество\n",
        "бит равных 1 в этом числе. Написать тесты для кода"
      ]
    },
    {
      "cell_type": "code",
      "execution_count": 3,
      "metadata": {
        "id": "6tkfDJRz6dp_"
      },
      "outputs": [
        {
          "name": "stdout",
          "output_type": "stream",
          "text": [
            "Все тесты пройдены\n"
          ]
        }
      ],
      "source": [
        "def bit_num(num):\n",
        "    return bin(num).count('1')\n",
        "\n",
        "\n",
        "def test():\n",
        "    assert bit_num(10) == 2, 'Тест 1 не пройден'\n",
        "    assert bit_num(54) == 4, 'Тест 2 не пройден'\n",
        "    assert bit_num(0) == 0, 'Тест 3 не пройден'\n",
        "    print('Все тесты пройдены')\n",
        "\n",
        "test()"
      ]
    },
    {
      "cell_type": "markdown",
      "metadata": {
        "id": "26dDUz-Ae17N"
      },
      "source": [
        "# Задача 4\n",
        "Написать функцию, которая принимает положительное число. Функция должна вернуть то,\n",
        "сколько раз необходимо перемножать цифры числа или результат перемножения, чтобы\n",
        "получилось число состоящее из одной цифры.\n",
        "Например, для входного числа:\n",
        "· 39 функция должна вернуть 3, так как 3*9=27 => 2*7=14 => 1*4=4\n",
        "· 4 функция должна вернуть 0, так как число уже состоит из одной цифры\n",
        "· 999 функция должна вернуть 4, так как 9*9*9=729 => 7*2*9=126 => 1*2*6=12 =>\n",
        "1*2=2. Написать тесты для кода"
      ]
    },
    {
      "cell_type": "code",
      "execution_count": 4,
      "metadata": {
        "id": "BH1A_Mgi6i4G"
      },
      "outputs": [
        {
          "name": "stdout",
          "output_type": "stream",
          "text": [
            "Все тесты пройдены\n"
          ]
        }
      ],
      "source": [
        "def magic(n):\n",
        "    if n < 10: return 0\n",
        "    count = 0\n",
        "    while n >= 10:\n",
        "        result = 1\n",
        "        while n > 0:\n",
        "            result *= n % 10\n",
        "            n //= 10\n",
        "        n = result\n",
        "        count += 1\n",
        "    return count\n",
        "\n",
        "\n",
        "def test():\n",
        "    assert magic(39) == 3, 'Тест 1 не пройден'\n",
        "    assert magic(4) == 0, 'Тест 2 не пройден'\n",
        "    assert magic(999) == 4, 'Тест 3 не пройден'\n",
        "    print('Все тесты пройдены')\n",
        "\n",
        "\n",
        "test()"
      ]
    },
    {
      "cell_type": "markdown",
      "metadata": {
        "id": "0nS-kIa8g8vd"
      },
      "source": [
        "# Задача 5\n",
        "Написать функцию, которая принимает два целочисленных вектора одинаковой длины и\n",
        "возвращает среднеквадратическое отклонение двух векторов. Написать тесты для кода"
      ]
    },
    {
      "cell_type": "code",
      "execution_count": 5,
      "metadata": {
        "id": "8iphx4LM6xbx"
      },
      "outputs": [
        {
          "name": "stdout",
          "output_type": "stream",
          "text": [
            "Все тесты пройдены\n"
          ]
        }
      ],
      "source": [
        "import math\n",
        "\n",
        "\n",
        "def mse(pred, true):\n",
        "    sum_squared_diff = 0\n",
        "\n",
        "    for a, b in zip(pred, true):\n",
        "        sum_squared_diff += (a - b) ** 2\n",
        "    mean_squared_diff = sum_squared_diff / len(pred)\n",
        "    return math.sqrt(mean_squared_diff)\n",
        "\n",
        "\n",
        "def test():\n",
        "    assert mse([1, 2, 3], [1, 2, 3]) == 0.0, 'Тест 1 не пройден'\n",
        "    assert mse([1, 2, 3], [4, 5, 6]) == math.sqrt(9), 'Тест 2 не пройден'\n",
        "    assert mse([1, 1, 1], [2, 2, 2]) == math.sqrt(1), 'Тест 3 не пройден'\n",
        "\n",
        "    print('Все тесты пройдены')\n",
        "\n",
        "\n",
        "test()"
      ]
    },
    {
      "cell_type": "markdown",
      "metadata": {
        "id": "vpIPKL439zkw"
      },
      "source": [
        "# Задача 6\n",
        "Написать функцию, принимающая целое положительное число. Функция должна вернуть\n",
        "строку вида “(n1**p1)(n2**p2)…(nk**pk)” представляющая разложение числа на простые\n",
        "множители (если pi == 1, то выводить только ni).\n",
        "Например, для числа 86240 функция должна вернуть “(2**5)(5)(7**2)(11)”. Написать тесты для кода"
      ]
    },
    {
      "cell_type": "code",
      "execution_count": 6,
      "metadata": {
        "id": "pFebmcZk94Jw"
      },
      "outputs": [
        {
          "name": "stdout",
          "output_type": "stream",
          "text": [
            "Все тесты пройдены\n"
          ]
        }
      ],
      "source": [
        "def prime_factors(n):\n",
        "    factors = {}\n",
        "    divisor = 2\n",
        "\n",
        "    while n > 1:\n",
        "        while n % divisor == 0:\n",
        "            if divisor in factors:\n",
        "                factors[divisor] += 1\n",
        "            else:\n",
        "                factors[divisor] = 1\n",
        "            n //= divisor\n",
        "        divisor += 1\n",
        "\n",
        "    result = ''\n",
        "    for i, j in factors.items():\n",
        "        if j == 1:\n",
        "            result += f'({i})'\n",
        "        else:\n",
        "            result += f'({i}**{j})'\n",
        "    return result\n",
        "\n",
        "def test():\n",
        "    assert prime_factors(86240) == '(2**5)(5)(7**2)(11)', 'Тест 1 не пройден'\n",
        "    assert prime_factors(12) == '(2**2)(3)', 'Тест 2 не пройден'\n",
        "    assert prime_factors(100) == '(2**2)(5**2)', 'Тест 3 не пройден'\n",
        "    print('Все тесты пройдены')\n",
        "\n",
        "test()"
      ]
    },
    {
      "cell_type": "markdown",
      "metadata": {
        "id": "ps2s0BudX7A2"
      },
      "source": [
        "# Задача 7\n",
        "Написать функцию, принимающая целое число n, задающее количество кубиков. Функция\n",
        "должна определить, можно ли из данного кол-ва кубиков построить пирамиду, то есть\n",
        "можно ли представить число n как 1^2+2^2+3^2+…+k^2. Если можно, то функция должна\n",
        "вернуть k, иначе строку “It is impossible”. Написать тесты для кода"
      ]
    },
    {
      "cell_type": "code",
      "execution_count": 7,
      "metadata": {
        "id": "3YPjEXxhX_YT"
      },
      "outputs": [
        {
          "name": "stdout",
          "output_type": "stream",
          "text": [
            "Все тесты пройдены\n"
          ]
        }
      ],
      "source": [
        "def pyramid(number):\n",
        "    count = 0\n",
        "    level = 0\n",
        "\n",
        "    while count < number:\n",
        "        level += 1\n",
        "        count += level ** 2\n",
        "        if count == number:\n",
        "            return level\n",
        "\n",
        "    return 'It is impossible'\n",
        "\n",
        "def test():\n",
        "    assert pyramid(1) == 1, 'Тест 1 не пройден'\n",
        "    assert pyramid(5) == 2, 'Тест 2 не пройден'\n",
        "    assert pyramid(14) == 3, 'Тест 3 не пройден'\n",
        "    assert pyramid(15) == 'It is impossible', 'Тест 4 не пройден'\n",
        "    print('Все тесты пройдены')\n",
        "\n",
        "test()"
      ]
    },
    {
      "cell_type": "markdown",
      "metadata": {
        "id": "KeKgmIdAQMEJ"
      },
      "source": [
        "# Задача 8\n",
        "Функция принимает на вход положительное число и определяет является ли оно сбалансированным, т.е. сумма цифр до средних равна сумме цифр после. Средними в случае нечетного числа цифр считать одну цифру, в случае четного - две средних. Написать тесты для кода"
      ]
    },
    {
      "cell_type": "code",
      "execution_count": 8,
      "metadata": {
        "id": "gMAAqtqlQrZt"
      },
      "outputs": [
        {
          "name": "stdout",
          "output_type": "stream",
          "text": [
            "Все тесты пройдены\n"
          ]
        }
      ],
      "source": [
        "def balanced_number(n):\n",
        "    str_n = str(n)\n",
        "    length = len(str_n)\n",
        "\n",
        "    if length % 2 == 0:\n",
        "        middle_left = length // 2 - 1\n",
        "        middle_right = length // 2\n",
        "        left = str_n[:middle_left]\n",
        "        right = str_n[middle_right + 1:]\n",
        "    else:\n",
        "        middle = length // 2\n",
        "        left = str_n[:middle]\n",
        "        right = str_n[middle + 1:]\n",
        "    left_sum = sum(int(x) for x in left)\n",
        "    right_sum = sum(int(x) for x in right)\n",
        "    return left_sum == right_sum\n",
        "\n",
        "\n",
        "def test():\n",
        "    assert balanced_number(1231) == True, 'Тест 1 не пройден'\n",
        "    assert balanced_number(123400) == False, 'Тест 2 не пройден'\n",
        "    assert balanced_number(12321) == True, 'Тест 3 не пройден'\n",
        "    print('Все тесты пройдены')\n",
        "\n",
        "test()"
      ]
    }
  ],
  "metadata": {
    "colab": {
      "provenance": []
    },
    "kernelspec": {
      "display_name": "Python 3",
      "name": "python3"
    },
    "language_info": {
      "codemirror_mode": {
        "name": "ipython",
        "version": 3
      },
      "file_extension": ".py",
      "mimetype": "text/x-python",
      "name": "python",
      "nbconvert_exporter": "python",
      "pygments_lexer": "ipython3",
      "version": "3.9.13"
    }
  },
  "nbformat": 4,
  "nbformat_minor": 0
}
